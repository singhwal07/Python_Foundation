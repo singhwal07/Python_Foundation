{
 "cells": [
  {
   "cell_type": "markdown",
   "id": "3ae098aa",
   "metadata": {},
   "source": [
    "# Assingment - Python Foundation"
   ]
  },
  {
   "cell_type": "code",
   "execution_count": 1,
   "id": "be53f279",
   "metadata": {},
   "outputs": [],
   "source": [
    "import numpy as np\n",
    "import pandas as pd\n",
    "from math import pi\n",
    "from collections import Counter"
   ]
  },
  {
   "cell_type": "raw",
   "id": "b03ca764",
   "metadata": {},
   "source": [
    "Q1: Write a program to check if a Number is Odd or Even. Take number as a input from user at runtime."
   ]
  },
  {
   "cell_type": "code",
   "execution_count": 27,
   "id": "24f87ccb",
   "metadata": {},
   "outputs": [
    {
     "name": "stdout",
     "output_type": "stream",
     "text": [
      "Please enter a number : 21\n",
      "Number is odd\n"
     ]
    }
   ],
   "source": [
    "user_input = input('Please enter a number : ')\n",
    "try:\n",
    "    user_input2 = int(user_input)\n",
    "    if (user_input2 % 2) ==  0:\n",
    "        print('Number is even')\n",
    "    else:\n",
    "        print('Number is odd')\n",
    "except: \n",
    "    print('Please enter a integer value! for e.g 2,1,44,32,21')\n"
   ]
  },
  {
   "cell_type": "raw",
   "id": "aa0400e1",
   "metadata": {},
   "source": [
    "Q2: Write a program to display the table by taking the number as input. "
   ]
  },
  {
   "cell_type": "code",
   "execution_count": 51,
   "id": "50b1bb10",
   "metadata": {},
   "outputs": [
    {
     "name": "stdout",
     "output_type": "stream",
     "text": [
      "Please enter a number : 12\n",
      "Writing table of 12\n",
      "12 * 1 = 12\n",
      "12 * 2 = 24\n",
      "12 * 3 = 36\n",
      "12 * 4 = 48\n",
      "12 * 5 = 60\n",
      "12 * 6 = 72\n",
      "12 * 7 = 84\n",
      "12 * 8 = 96\n",
      "12 * 9 = 108\n",
      "12 * 10 = 120\n"
     ]
    }
   ],
   "source": [
    "user_input = input('Please enter a number : ')\n",
    "try:\n",
    "    user_input2 = int(user_input)\n",
    "    print(f\"Writing table of {user_input2}\")\n",
    "    for i in range(1,11):\n",
    "        print(f\"{user_input2} * {i} = {user_input2 * i}\")\n",
    "except:\n",
    "    print('Please enter a integer value! for e.g = 1,2,4,3,5,21')"
   ]
  },
  {
   "cell_type": "raw",
   "id": "0f032e41",
   "metadata": {},
   "source": [
    "Q3: Write a program which will find all numbers between 2000 and 3200 which are divisible by 7 but are not a multiple of 5. Note: The numbers obtained should be printed in a comma-separated sequence on a single line."
   ]
  },
  {
   "cell_type": "code",
   "execution_count": 62,
   "id": "a8811faf",
   "metadata": {},
   "outputs": [
    {
     "name": "stdout",
     "output_type": "stream",
     "text": [
      "2002,2009,2016,2023,2037,2044,2051,2058,2072,2079,2086,2093,2107,2114,2121,2128,2142,2149,2156,2163,2177,2184,2191,2198,2212,2219,2226,2233,2247,2254,2261,2268,2282,2289,2296,2303,2317,2324,2331,2338,2352,2359,2366,2373,2387,2394,2401,2408,2422,2429,2436,2443,2457,2464,2471,2478,2492,2499,2506,2513,2527,2534,2541,2548,2562,2569,2576,2583,2597,2604,2611,2618,2632,2639,2646,2653,2667,2674,2681,2688,2702,2709,2716,2723,2737,2744,2751,2758,2772,2779,2786,2793,2807,2814,2821,2828,2842,2849,2856,2863,2877,2884,2891,2898,2912,2919,2926,2933,2947,2954,2961,2968,2982,2989,2996,3003,3017,3024,3031,3038,3052,3059,3066,3073,3087,3094,3101,3108,3122,3129,3136,3143,3157,3164,3171,3178,3192,3199\n"
     ]
    }
   ],
   "source": [
    "output = ''\n",
    "for i in range(2000,3201):\n",
    "    if i % 7 == 0 and i % 5 != 0:\n",
    "        output += str(i) + ','\n",
    "print(output.rstrip(','))"
   ]
  },
  {
   "cell_type": "raw",
   "id": "fa200ce5",
   "metadata": {},
   "source": [
    "Q4: Count the elements of each datatype inside the list and display in output\n",
    "    [2, 3, 'Py', '10', 1, 'SQL', 5.5, True, 3, 'John', None, 7] "
   ]
  },
  {
   "cell_type": "code",
   "execution_count": 102,
   "id": "1b38f194",
   "metadata": {},
   "outputs": [],
   "source": [
    "user_list = [2, 3, 'Py', '10', 1, 'SQL', 5.5, True, 3, 'John', None, 7] \n",
    "\n",
    "dtype_counts = Counter(type(x) for x in user_list)\n",
    "print(dtype_counts)"
   ]
  },
  {
   "cell_type": "raw",
   "id": "a6427479",
   "metadata": {},
   "source": [
    "Q5 Add all values from the list with numeric datatypes."
   ]
  },
  {
   "cell_type": "code",
   "execution_count": 113,
   "id": "554f022a",
   "metadata": {},
   "outputs": [
    {
     "name": "stdout",
     "output_type": "stream",
     "text": [
      "16\n"
     ]
    }
   ],
   "source": [
    "user_list = [2, 3, 'Py', '10', 1, 'SQL', 5.5, True, 3, 'John', None, 7]\n",
    "user_result = 0\n",
    "for x in user_list:\n",
    "    if isinstance(x,int) and not isinstance(x,bool):\n",
    "        user_result += x\n",
    "print(user_result)"
   ]
  },
  {
   "cell_type": "raw",
   "id": "a56a352a",
   "metadata": {},
   "source": [
    "Q6: Concat all str datatypes with hyphen as a delimiter."
   ]
  },
  {
   "cell_type": "code",
   "execution_count": 124,
   "id": "4c6bc3ff",
   "metadata": {},
   "outputs": [
    {
     "name": "stdout",
     "output_type": "stream",
     "text": [
      "Py-10-SQL-John\n"
     ]
    }
   ],
   "source": [
    "user_list = [2, 3, 'Py', '10', 1, 'SQL', 5.5, True, 3, 'John', None, 7] \n",
    "concat_str = ''\n",
    "for x in user_list:\n",
    "    if isinstance(x,str):\n",
    "        concat_str = f\"{concat_str}-{x}\"\n",
    "print(concat_str.lstrip(' -'))"
   ]
  },
  {
   "cell_type": "raw",
   "id": "46bd2086",
   "metadata": {},
   "source": [
    "Q7 Write a UDF that takes list as input and returns sum of all numbers (exclude bool) and count of all str "
   ]
  },
  {
   "cell_type": "code",
   "execution_count": 132,
   "id": "dd7351cf",
   "metadata": {},
   "outputs": [
    {
     "name": "stdout",
     "output_type": "stream",
     "text": [
      "Sum_int is 16 , Count_Str is 4\n"
     ]
    }
   ],
   "source": [
    "def my_func(x):\n",
    "    sum_int = 0\n",
    "    count_str = 0\n",
    "    for i in x:\n",
    "        if isinstance(i,int) and not isinstance(i,bool):\n",
    "            sum_int += i\n",
    "        elif isinstance(i,str):\n",
    "            count_str += 1\n",
    "    print(f\"Sum_int is {sum_int} , Count_Str is {count_str}\")\n",
    "\n",
    "user_list = [2, 3, 'Py', '10', 1, 'SQL', 5.5, True, 3, 'John', None, 7] \n",
    "my_func(user_list)"
   ]
  },
  {
   "cell_type": "raw",
   "id": "021c1230",
   "metadata": {},
   "source": [
    "Q8: Get only odd numbers from the following list and store the numbers in new list\n",
    "    li = [5, 7, 22, 97, 54, 62, 77, 23, 73, 61]\n",
    "\n",
    "    i. Use loops to get the answer\n",
    "    ii. Use list comprehensions"
   ]
  },
  {
   "cell_type": "code",
   "execution_count": 144,
   "id": "5fd4ac7e",
   "metadata": {},
   "outputs": [],
   "source": [
    "#user loops to get the answer"
   ]
  },
  {
   "cell_type": "code",
   "execution_count": 147,
   "id": "68702b09",
   "metadata": {},
   "outputs": [
    {
     "name": "stdout",
     "output_type": "stream",
     "text": [
      "[5, 7, 97, 77, 23, 73, 61]\n"
     ]
    }
   ],
   "source": [
    "li = [5, 7, 22, 97, 54, 62, 77, 23, 73, 61]\n",
    "new_list = []\n",
    "for i in li:\n",
    "    if i % 2 != 0:\n",
    "        new_list.append(i)\n",
    "print(new_list)"
   ]
  },
  {
   "cell_type": "code",
   "execution_count": 136,
   "id": "79aaa09d",
   "metadata": {},
   "outputs": [],
   "source": [
    "#list comprehension"
   ]
  },
  {
   "cell_type": "code",
   "execution_count": 149,
   "id": "bf7d01d2",
   "metadata": {},
   "outputs": [
    {
     "name": "stdout",
     "output_type": "stream",
     "text": [
      "[5, 7, 97, 77, 23, 73, 61]\n"
     ]
    }
   ],
   "source": [
    "li = [5, 7, 22, 97, 54, 62, 77, 23, 73, 61]\n",
    "new_list = [i for i in li if i % 2 != 0]\n",
    "print(new_list)"
   ]
  },
  {
   "cell_type": "raw",
   "id": "5c7cf292",
   "metadata": {},
   "source": [
    "Q9: Write a UDF to return the descriptives [sum, count, min, mean, max] for the n number of input numbers."
   ]
  },
  {
   "cell_type": "code",
   "execution_count": 167,
   "id": "05716e73",
   "metadata": {},
   "outputs": [],
   "source": [
    "def des(*num):\n",
    "    sum_result = np.sum(num)\n",
    "    count_result = np.count_nonzero(num)\n",
    "    min_result = np.min(num)\n",
    "    mean_result = np.mean(num)\n",
    "    max_result = np.max(num)\n",
    "    val_result = np.size(num)\n",
    "    \n",
    "    print(f\"Sum : {sum_result}, Min : {min_result}, Mean : {mean_result}, Max : {max_result}, TotalValues : {val_result}\")"
   ]
  },
  {
   "cell_type": "code",
   "execution_count": 168,
   "id": "37cb2efc",
   "metadata": {},
   "outputs": [
    {
     "name": "stdout",
     "output_type": "stream",
     "text": [
      "Sum : 28, Min : 1, Mean : 4.0, Max : 7, TotalValues : 7\n"
     ]
    }
   ],
   "source": [
    "des(1,2,3,4,5,6,7)"
   ]
  },
  {
   "cell_type": "raw",
   "id": "459dd329",
   "metadata": {},
   "source": [
    "Q10: Write an udf to calculate the area of different shapes\n",
    "\n",
    "Take shape and dimensions as arguments to udf as follows : \n",
    "\n",
    "1. square which has side\n",
    "2. rectangle which has length and width\n",
    "3. circle which has radius\n",
    "\n",
    "The shape should be a positional argument and it's dimensions are taken as kwargs\n",
    "\n",
    "Perform proper validation for the user inputs and then calculate area.\n",
    "\n",
    "E.g. if shape is square, ensure kwargs has \"side\" and if so, then you may return the area, else display appropriate error message like \"Please enter 'side' for a square\""
   ]
  },
  {
   "cell_type": "code",
   "execution_count": 184,
   "id": "f08bf712",
   "metadata": {},
   "outputs": [],
   "source": [
    "def area(shape,**kwargs):\n",
    "    area = 0\n",
    "    if shape == 'square':\n",
    "        area = kwargs['side'] * kwargs['side']\n",
    "    elif shape == 'rectangle':\n",
    "        area = kwargs['length'] * kwargs['width']\n",
    "    elif shape == 'circle':\n",
    "        area = pi * (kwargs['radius'] **2)\n",
    "    return area"
   ]
  },
  {
   "cell_type": "code",
   "execution_count": 185,
   "id": "5d2e1037",
   "metadata": {},
   "outputs": [
    {
     "data": {
      "text/plain": [
       "4"
      ]
     },
     "execution_count": 185,
     "metadata": {},
     "output_type": "execute_result"
    }
   ],
   "source": [
    "area('square',side = 2)"
   ]
  },
  {
   "cell_type": "code",
   "execution_count": 186,
   "id": "982d55a3",
   "metadata": {},
   "outputs": [
    {
     "data": {
      "text/plain": [
       "252"
      ]
     },
     "execution_count": 186,
     "metadata": {},
     "output_type": "execute_result"
    }
   ],
   "source": [
    "area('rectangle',length = 12,width = 21)"
   ]
  },
  {
   "cell_type": "code",
   "execution_count": 189,
   "id": "f11594ba",
   "metadata": {},
   "outputs": [
    {
     "data": {
      "text/plain": [
       "78.53981633974483"
      ]
     },
     "execution_count": 189,
     "metadata": {},
     "output_type": "execute_result"
    }
   ],
   "source": [
    "area('circle',radius = 5)"
   ]
  },
  {
   "cell_type": "raw",
   "id": "1b8dda18",
   "metadata": {},
   "source": [
    "Q11: Write a UDF to reconcile the values within two lists.\n",
    "    l1 = ['January', 'February', 'March', 'May', 'June', 'September', 'December']\n",
    "    l2 = ['January', 'February', 'April', 'June', 'October', 'December']\n",
    "\n",
    "    \n",
    "Output:\n",
    "{'Matched': ['January', 'February', 'June', 'December'],\n",
    "    'Only in l1': ['March', 'May', 'September'],\n",
    "        'Only in l2': ['April', 'October']}"
   ]
  },
  {
   "cell_type": "code",
   "execution_count": 205,
   "id": "fbcde631",
   "metadata": {},
   "outputs": [],
   "source": [
    "l1 = ['January', 'February', 'March', 'May', 'June', 'September', 'December']\n",
    "l2 = ['January', 'February', 'April', 'June', 'October', 'December']\n",
    "def recon_fun(l1,l2):\n",
    "    matching = sorted(list(set(l1) & set(l2)))\n",
    "    onlyl1 = sorted(list(set(l1) - set(l2)))\n",
    "    onlyl2 = sorted(list(set(l2) - set(l1)))\n",
    "    output = {'Matched' : matching, 'Only in L1' : onlyl1, 'Only in L2' : onlyl2}\n",
    "    return output"
   ]
  }
 ],
 "metadata": {
  "kernelspec": {
   "display_name": "Python 3 (ipykernel)",
   "language": "python",
   "name": "python3"
  },
  "language_info": {
   "codemirror_mode": {
    "name": "ipython",
    "version": 3
   },
   "file_extension": ".py",
   "mimetype": "text/x-python",
   "name": "python",
   "nbconvert_exporter": "python",
   "pygments_lexer": "ipython3",
   "version": "3.9.1"
  }
 },
 "nbformat": 4,
 "nbformat_minor": 5
}
